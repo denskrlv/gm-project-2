{
 "cells": [
  {
   "cell_type": "markdown",
   "id": "d80c6c23",
   "metadata": {},
   "source": [
    "# ComposeGlide Demo"
   ]
  },
  {
   "cell_type": "code",
   "execution_count": null,
   "id": "9d2b3e3d",
   "metadata": {},
   "outputs": [],
   "source": [
    "from compose_glide import ComposeGlide\n",
    "from matplotlib import pyplot as plt"
   ]
  },
  {
   "cell_type": "code",
   "execution_count": null,
   "id": "65569435",
   "metadata": {},
   "outputs": [],
   "source": [
    "compose_glide = ComposeGlide(verbose=True)\n",
    "print(compose_glide)"
   ]
  },
  {
   "cell_type": "code",
   "execution_count": null,
   "id": "407b7917",
   "metadata": {},
   "outputs": [],
   "source": [
    "PROMPT = \"A large purple metal cube to the left of a large gray rubber cube and A large purple metal cube to the right of a large yellow rubber sphere\"\n",
    "NUM_IMAGES = 1\n",
    "UPSAMPLE = True"
   ]
  },
  {
   "cell_type": "code",
   "execution_count": null,
   "id": "42017b41",
   "metadata": {},
   "outputs": [],
   "source": [
    "print(f\"Generating {NUM_IMAGES} image(s) for prompt: '{PROMPT}'.\")\n",
    "result, attention_data = compose_glide.generate(\n",
    "    PROMPT, \n",
    "    num_images=NUM_IMAGES, \n",
    "    upsample=UPSAMPLE, \n",
    "    upsample_temp=0.995,\n",
    "    save_intermediate_steps=10,\n",
    "    return_attention_maps=True\n",
    ")"
   ]
  },
  {
   "cell_type": "code",
   "execution_count": null,
   "id": "cbf02955",
   "metadata": {},
   "outputs": [],
   "source": [
    "if result.nelement() > 0:\n",
    "    \n",
    "    # Check if attention_data exists and has the right structure\n",
    "    has_attention = attention_data is not None and len(attention_data) == len(result)\n",
    "    \n",
    "    for i, sample_tensor in enumerate(result):\n",
    "        # Only show attention maps if they exist\n",
    "        if has_attention:\n",
    "            attn_maps = attention_data[i]\n",
    "            \n",
    "            # Create a figure for attention maps only\n",
    "            plt.figure(figsize=(8, 8))\n",
    "            \n",
    "            # Visualize attention maps\n",
    "            compose_glide.visualize_attention_maps(\n",
    "                sample_tensor, \n",
    "                attn_maps,\n",
    "                PROMPT,\n",
    "                output_path=None,\n",
    "                show_plot=False\n",
    "            )\n",
    "            \n",
    "            plt.tight_layout()\n",
    "            plt.show()\n",
    "            \n",
    "            print(f\"Attention map {i+1} displayed\")\n",
    "        else:\n",
    "            print(\"Couldn't load the attention map\")\n",
    "            \n",
    "        # Display the original image separately if needed\n",
    "        # (Removed as per request)\n",
    "else:\n",
    "    print(\"No images were generated.\")"
   ]
  }
 ],
 "metadata": {
  "kernelspec": {
   "display_name": ".venv",
   "language": "python",
   "name": "python3"
  },
  "language_info": {
   "codemirror_mode": {
    "name": "ipython",
    "version": 3
   },
   "file_extension": ".py",
   "mimetype": "text/x-python",
   "name": "python",
   "nbconvert_exporter": "python",
   "pygments_lexer": "ipython3",
   "version": "3.13.3"
  }
 },
 "nbformat": 4,
 "nbformat_minor": 5
}
